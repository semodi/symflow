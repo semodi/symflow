{
 "cells": [
  {
   "cell_type": "code",
   "execution_count": 1,
   "metadata": {},
   "outputs": [
    {
     "name": "stdout",
     "output_type": "stream",
     "text": [
      "Populating the interactive namespace from numpy and matplotlib\n"
     ]
    }
   ],
   "source": [
    "import symflow as sf\n",
    "from symflow.nodes import Datanode, Subnetnode\n",
    "import numpy as np\n",
    "from sklearn.preprocessing import MinMaxScaler\n",
    "%pylab inline"
   ]
  },
  {
   "cell_type": "code",
   "execution_count": 2,
   "metadata": {
    "collapsed": true
   },
   "outputs": [],
   "source": [
    "def split_o_h(data, n_mol, n_o_orb, n_h_orb):\n",
    "    \n",
    "    data_o = np.zeros([data.shape[0], n_mol, n_o_orb])\n",
    "    data_h = np.zeros([data.shape[0], n_mol*2, n_h_orb])\n",
    "    \n",
    "    data = data.reshape(data.shape[0], n_mol, -1)\n",
    "    \n",
    "    data_o[:,:,:] = data[:,:,:n_o_orb]\n",
    "    \n",
    "    for i in range(n_mol):\n",
    "        data_h[:,i,:] = data[:,i,n_o_orb:n_o_orb + n_h_orb]\n",
    "        data_h[:,i+n_mol,:] = data[:,i,n_o_orb+n_h_orb:]\n",
    "    return data_o, data_h"
   ]
  },
  {
   "cell_type": "code",
   "execution_count": 3,
   "metadata": {
    "collapsed": true
   },
   "outputs": [],
   "source": [
    "def build_nodes(data_o, data_h, y, scaler_o, scaler_h):\n",
    "    \n",
    "    dnodes = []\n",
    "    snodes = []\n",
    "    \n",
    "    for i in range(data_o.shape[1]):\n",
    "        dnodes.append(Datanode(data_o[:,i,:],y, scaler_o))\n",
    "        dnodes.append(Datanode(data_h[:,2*i,:], scaler = scaler_h))\n",
    "        dnodes.append(Datanode(data_h[:,2*i + 1,:], scaler = scaler_h))\n",
    "        snodes.append(Subnetnode('mull_o',1))\n",
    "        snodes.append(Subnetnode('mull_h',1))\n",
    "        snodes.append(Subnetnode('mull_h',1))\n",
    "    \n",
    "    for d,s in zip(dnodes,snodes):\n",
    "        d >> s >> dnodes[0]\n",
    "        \n",
    "    return dnodes\n",
    "    "
   ]
  },
  {
   "cell_type": "code",
   "execution_count": 4,
   "metadata": {
    "collapsed": true
   },
   "outputs": [],
   "source": [
    "mono_o, mono_h = split_o_h(np.genfromtxt('../exchange_ml/data/processed/monomers/lda/M.dat',delimiter = ','),\n",
    "                           1,26,10)\n",
    "dimer_o, dimer_h = split_o_h(np.genfromtxt('../exchange_ml/data/processed/dimers/lda/M.dat',delimiter = ','),\n",
    "                           2,26,10)\n",
    "trimer_o, trimer_h = split_o_h(np.genfromtxt('../exchange_ml/data/processed/trimers/lda/M.dat',delimiter = ','),\n",
    "                           3,26,10)\n",
    "\n",
    "all_o = np.concatenate([mono_o.reshape(-1,26),dimer_o.reshape(-1,26),trimer_o.reshape(-1,26)])\n",
    "all_h = np.concatenate([mono_h.reshape(-1,10),dimer_h.reshape(-1,10),trimer_h.reshape(-1,10)])\n",
    "scaler_o = MinMaxScaler(copy = False)\n",
    "scaler_h = MinMaxScaler(copy = False)\n",
    "scaler_o.fit(all_o);\n",
    "scaler_h.fit(all_h);\n",
    "scalers = [scaler_o, scaler_h]"
   ]
  },
  {
   "cell_type": "code",
   "execution_count": 5,
   "metadata": {
    "collapsed": true
   },
   "outputs": [],
   "source": [
    "mono_targets = np.genfromtxt('../exchange_ml/data/processed/monomers/gga/energies_siesta.dat') - \\\n",
    "                np.genfromtxt('../exchange_ml/data/processed/monomers/lda/energies_siesta.dat') \n",
    "monomean = np.mean(mono_targets)\n",
    "\n",
    "mono_targets -= monomean\n",
    "dimer_targets = np.genfromtxt('../exchange_ml/data/processed/dimers/gga/energies_siesta.dat') - \\\n",
    "                np.genfromtxt('../exchange_ml/data/processed/dimers/lda/energies_siesta.dat') \n",
    "dimer_targets -= monomean * 2\n",
    "trimer_targets = np.genfromtxt('../exchange_ml/data/processed/trimers/gga/energies_siesta.dat') - \\\n",
    "                np.genfromtxt('../exchange_ml/data/processed/trimers/lda/energies_siesta.dat') \n",
    "trimer_targets -= monomean * 3"
   ]
  },
  {
   "cell_type": "code",
   "execution_count": 6,
   "metadata": {},
   "outputs": [
    {
     "name": "stdout",
     "output_type": "stream",
     "text": [
      "No dataset contained yet, initializing node with this dataset.\n",
      "No dataset contained yet, initializing node with this dataset.\n",
      "No dataset contained yet, initializing node with this dataset.\n",
      "No dataset contained yet, initializing node with this dataset.\n",
      "No dataset contained yet, initializing node with this dataset.\n",
      "No dataset contained yet, initializing node with this dataset.\n",
      "No dataset contained yet, initializing node with this dataset.\n",
      "No dataset contained yet, initializing node with this dataset.\n",
      "No dataset contained yet, initializing node with this dataset.\n",
      "No dataset contained yet, initializing node with this dataset.\n",
      "No dataset contained yet, initializing node with this dataset.\n",
      "No dataset contained yet, initializing node with this dataset.\n",
      "No dataset contained yet, initializing node with this dataset.\n",
      "No dataset contained yet, initializing node with this dataset.\n",
      "No dataset contained yet, initializing node with this dataset.\n",
      "No dataset contained yet, initializing node with this dataset.\n",
      "No dataset contained yet, initializing node with this dataset.\n",
      "No dataset contained yet, initializing node with this dataset.\n"
     ]
    }
   ],
   "source": [
    "nodes_mono = build_nodes(mono_o, mono_h, mono_targets, *scalers)\n",
    "nodes_dimer = build_nodes(dimer_o, dimer_h, dimer_targets, *scalers)\n",
    "nodes_trimer = build_nodes(trimer_o, trimer_h, trimer_targets, *scalers)\n"
   ]
  },
  {
   "cell_type": "code",
   "execution_count": 7,
   "metadata": {},
   "outputs": [],
   "source": [
    "network = sf.Graph(nodes_mono + nodes_dimer + nodes_trimer)"
   ]
  },
  {
   "cell_type": "code",
   "execution_count": 8,
   "metadata": {
    "collapsed": true
   },
   "outputs": [],
   "source": [
    "network.connect_backwards()"
   ]
  },
  {
   "cell_type": "code",
   "execution_count": 9,
   "metadata": {},
   "outputs": [
    {
     "name": "stdout",
     "output_type": "stream",
     "text": [
      "Connecting mull_o to Datanode\n",
      "Connecting mull_h to Datanode\n",
      "Connecting mull_h to Datanode\n",
      "Sharing variables\n",
      "Connecting mull_o to Datanode\n",
      "Sharing variables\n",
      "Connecting mull_h to Datanode\n",
      "Sharing variables\n",
      "Connecting mull_h to Datanode\n",
      "Sharing variables\n",
      "Connecting mull_o to Datanode\n",
      "Sharing variables\n",
      "Connecting mull_h to Datanode\n",
      "Sharing variables\n",
      "Connecting mull_h to Datanode\n",
      "Sharing variables\n",
      "Connecting mull_h to Datanode\n",
      "Sharing variables\n",
      "Connecting mull_h to Datanode\n",
      "Sharing variables\n",
      "Connecting mull_h to Datanode\n",
      "Sharing variables\n",
      "Connecting mull_h to Datanode\n",
      "Sharing variables\n",
      "Connecting mull_h to Datanode\n",
      "Sharing variables\n",
      "Connecting mull_o to Datanode\n",
      "Sharing variables\n",
      "Connecting mull_o to Datanode\n",
      "Sharing variables\n",
      "Connecting mull_h to Datanode\n",
      "Sharing variables\n",
      "Connecting mull_o to Datanode\n",
      "Sharing variables\n",
      "Step: 0\n",
      "Training set cost:\n",
      "0: 25.79705810546875\n",
      "1: 12.823004722595215\n",
      "2: 39.10169219970703\n",
      "Total: 48.56809616088867\n",
      "Validation set cost:\n",
      "0: 25.812606811523438\n",
      "1: 12.820186614990234\n",
      "2: 39.11037063598633\n",
      "Total: 48.58259582519531\n",
      "--------------------\n"
     ]
    },
    {
     "ename": "KeyboardInterrupt",
     "evalue": "",
     "output_type": "error",
     "traceback": [
      "\u001b[0;31m---------------------------------------------------------------------------\u001b[0m",
      "\u001b[0;31mKeyboardInterrupt\u001b[0m                         Traceback (most recent call last)",
      "\u001b[0;32m<ipython-input-9-8c8b71991d21>\u001b[0m in \u001b[0;36m<module>\u001b[0;34m()\u001b[0m\n\u001b[0;32m----> 1\u001b[0;31m \u001b[0mnetwork\u001b[0m\u001b[0;34m.\u001b[0m\u001b[0mtrain\u001b[0m\u001b[0;34m(\u001b[0m\u001b[0mstep_size\u001b[0m\u001b[0;34m=\u001b[0m\u001b[0;36m0.001\u001b[0m\u001b[0;34m,\u001b[0m\u001b[0mmax_steps\u001b[0m\u001b[0;34m=\u001b[0m\u001b[0;36m20000\u001b[0m\u001b[0;34m)\u001b[0m\u001b[0;34m\u001b[0m\u001b[0m\n\u001b[0m",
      "\u001b[0;32m/home/sebastian/Documents/Physics/Code/symflow/symflow/graph.py\u001b[0m in \u001b[0;36mtrain\u001b[0;34m(self, step_size, max_steps, b_, verbose, optimizer, adaptive_rate)\u001b[0m\n\u001b[1;32m    128\u001b[0m             \u001b[0;32mfor\u001b[0m \u001b[0m_\u001b[0m \u001b[0;32min\u001b[0m \u001b[0mrange\u001b[0m\u001b[0;34m(\u001b[0m\u001b[0;36m0\u001b[0m\u001b[0;34m,\u001b[0m\u001b[0mmax_steps\u001b[0m\u001b[0;34m)\u001b[0m\u001b[0;34m:\u001b[0m\u001b[0;34m\u001b[0m\u001b[0m\n\u001b[1;32m    129\u001b[0m \u001b[0;34m\u001b[0m\u001b[0m\n\u001b[0;32m--> 130\u001b[0;31m                 \u001b[0msess\u001b[0m\u001b[0;34m.\u001b[0m\u001b[0mrun\u001b[0m\u001b[0;34m(\u001b[0m\u001b[0mtrain_step\u001b[0m\u001b[0;34m,\u001b[0m\u001b[0mfeed_dict\u001b[0m\u001b[0;34m=\u001b[0m\u001b[0mtrain_feed_dict\u001b[0m\u001b[0;34m)\u001b[0m\u001b[0;34m\u001b[0m\u001b[0m\n\u001b[0m\u001b[1;32m    131\u001b[0m \u001b[0;34m\u001b[0m\u001b[0m\n\u001b[1;32m    132\u001b[0m                 \u001b[0;31m# if _%int(max_steps/100) == 0 and adaptive_rate == True:\u001b[0m\u001b[0;34m\u001b[0m\u001b[0;34m\u001b[0m\u001b[0m\n",
      "\u001b[0;32m/home/sebastian/miniconda3/lib/python3.5/site-packages/tensorflow/python/client/session.py\u001b[0m in \u001b[0;36mrun\u001b[0;34m(self, fetches, feed_dict, options, run_metadata)\u001b[0m\n\u001b[1;32m    776\u001b[0m     \u001b[0;32mtry\u001b[0m\u001b[0;34m:\u001b[0m\u001b[0;34m\u001b[0m\u001b[0m\n\u001b[1;32m    777\u001b[0m       result = self._run(None, fetches, feed_dict, options_ptr,\n\u001b[0;32m--> 778\u001b[0;31m                          run_metadata_ptr)\n\u001b[0m\u001b[1;32m    779\u001b[0m       \u001b[0;32mif\u001b[0m \u001b[0mrun_metadata\u001b[0m\u001b[0;34m:\u001b[0m\u001b[0;34m\u001b[0m\u001b[0m\n\u001b[1;32m    780\u001b[0m         \u001b[0mproto_data\u001b[0m \u001b[0;34m=\u001b[0m \u001b[0mtf_session\u001b[0m\u001b[0;34m.\u001b[0m\u001b[0mTF_GetBuffer\u001b[0m\u001b[0;34m(\u001b[0m\u001b[0mrun_metadata_ptr\u001b[0m\u001b[0;34m)\u001b[0m\u001b[0;34m\u001b[0m\u001b[0m\n",
      "\u001b[0;32m/home/sebastian/miniconda3/lib/python3.5/site-packages/tensorflow/python/client/session.py\u001b[0m in \u001b[0;36m_run\u001b[0;34m(self, handle, fetches, feed_dict, options, run_metadata)\u001b[0m\n\u001b[1;32m    980\u001b[0m     \u001b[0;32mif\u001b[0m \u001b[0mfinal_fetches\u001b[0m \u001b[0;32mor\u001b[0m \u001b[0mfinal_targets\u001b[0m\u001b[0;34m:\u001b[0m\u001b[0;34m\u001b[0m\u001b[0m\n\u001b[1;32m    981\u001b[0m       results = self._do_run(handle, final_targets, final_fetches,\n\u001b[0;32m--> 982\u001b[0;31m                              feed_dict_string, options, run_metadata)\n\u001b[0m\u001b[1;32m    983\u001b[0m     \u001b[0;32melse\u001b[0m\u001b[0;34m:\u001b[0m\u001b[0;34m\u001b[0m\u001b[0m\n\u001b[1;32m    984\u001b[0m       \u001b[0mresults\u001b[0m \u001b[0;34m=\u001b[0m \u001b[0;34m[\u001b[0m\u001b[0;34m]\u001b[0m\u001b[0;34m\u001b[0m\u001b[0m\n",
      "\u001b[0;32m/home/sebastian/miniconda3/lib/python3.5/site-packages/tensorflow/python/client/session.py\u001b[0m in \u001b[0;36m_do_run\u001b[0;34m(self, handle, target_list, fetch_list, feed_dict, options, run_metadata)\u001b[0m\n\u001b[1;32m   1030\u001b[0m     \u001b[0;32mif\u001b[0m \u001b[0mhandle\u001b[0m \u001b[0;32mis\u001b[0m \u001b[0;32mNone\u001b[0m\u001b[0;34m:\u001b[0m\u001b[0;34m\u001b[0m\u001b[0m\n\u001b[1;32m   1031\u001b[0m       return self._do_call(_run_fn, self._session, feed_dict, fetch_list,\n\u001b[0;32m-> 1032\u001b[0;31m                            target_list, options, run_metadata)\n\u001b[0m\u001b[1;32m   1033\u001b[0m     \u001b[0;32melse\u001b[0m\u001b[0;34m:\u001b[0m\u001b[0;34m\u001b[0m\u001b[0m\n\u001b[1;32m   1034\u001b[0m       return self._do_call(_prun_fn, self._session, handle, feed_dict,\n",
      "\u001b[0;32m/home/sebastian/miniconda3/lib/python3.5/site-packages/tensorflow/python/client/session.py\u001b[0m in \u001b[0;36m_do_call\u001b[0;34m(self, fn, *args)\u001b[0m\n\u001b[1;32m   1037\u001b[0m   \u001b[0;32mdef\u001b[0m \u001b[0m_do_call\u001b[0m\u001b[0;34m(\u001b[0m\u001b[0mself\u001b[0m\u001b[0;34m,\u001b[0m \u001b[0mfn\u001b[0m\u001b[0;34m,\u001b[0m \u001b[0;34m*\u001b[0m\u001b[0margs\u001b[0m\u001b[0;34m)\u001b[0m\u001b[0;34m:\u001b[0m\u001b[0;34m\u001b[0m\u001b[0m\n\u001b[1;32m   1038\u001b[0m     \u001b[0;32mtry\u001b[0m\u001b[0;34m:\u001b[0m\u001b[0;34m\u001b[0m\u001b[0m\n\u001b[0;32m-> 1039\u001b[0;31m       \u001b[0;32mreturn\u001b[0m \u001b[0mfn\u001b[0m\u001b[0;34m(\u001b[0m\u001b[0;34m*\u001b[0m\u001b[0margs\u001b[0m\u001b[0;34m)\u001b[0m\u001b[0;34m\u001b[0m\u001b[0m\n\u001b[0m\u001b[1;32m   1040\u001b[0m     \u001b[0;32mexcept\u001b[0m \u001b[0merrors\u001b[0m\u001b[0;34m.\u001b[0m\u001b[0mOpError\u001b[0m \u001b[0;32mas\u001b[0m \u001b[0me\u001b[0m\u001b[0;34m:\u001b[0m\u001b[0;34m\u001b[0m\u001b[0m\n\u001b[1;32m   1041\u001b[0m       \u001b[0mmessage\u001b[0m \u001b[0;34m=\u001b[0m \u001b[0mcompat\u001b[0m\u001b[0;34m.\u001b[0m\u001b[0mas_text\u001b[0m\u001b[0;34m(\u001b[0m\u001b[0me\u001b[0m\u001b[0;34m.\u001b[0m\u001b[0mmessage\u001b[0m\u001b[0;34m)\u001b[0m\u001b[0;34m\u001b[0m\u001b[0m\n",
      "\u001b[0;32m/home/sebastian/miniconda3/lib/python3.5/site-packages/tensorflow/python/client/session.py\u001b[0m in \u001b[0;36m_run_fn\u001b[0;34m(session, feed_dict, fetch_list, target_list, options, run_metadata)\u001b[0m\n\u001b[1;32m   1019\u001b[0m         return tf_session.TF_Run(session, options,\n\u001b[1;32m   1020\u001b[0m                                  \u001b[0mfeed_dict\u001b[0m\u001b[0;34m,\u001b[0m \u001b[0mfetch_list\u001b[0m\u001b[0;34m,\u001b[0m \u001b[0mtarget_list\u001b[0m\u001b[0;34m,\u001b[0m\u001b[0;34m\u001b[0m\u001b[0m\n\u001b[0;32m-> 1021\u001b[0;31m                                  status, run_metadata)\n\u001b[0m\u001b[1;32m   1022\u001b[0m \u001b[0;34m\u001b[0m\u001b[0m\n\u001b[1;32m   1023\u001b[0m     \u001b[0;32mdef\u001b[0m \u001b[0m_prun_fn\u001b[0m\u001b[0;34m(\u001b[0m\u001b[0msession\u001b[0m\u001b[0;34m,\u001b[0m \u001b[0mhandle\u001b[0m\u001b[0;34m,\u001b[0m \u001b[0mfeed_dict\u001b[0m\u001b[0;34m,\u001b[0m \u001b[0mfetch_list\u001b[0m\u001b[0;34m)\u001b[0m\u001b[0;34m:\u001b[0m\u001b[0;34m\u001b[0m\u001b[0m\n",
      "\u001b[0;31mKeyboardInterrupt\u001b[0m: "
     ]
    }
   ],
   "source": [
    "network.train(step_size=0.001,max_steps=20000)"
   ]
  },
  {
   "cell_type": "code",
   "execution_count": 15,
   "metadata": {},
   "outputs": [
    {
     "name": "stdout",
     "output_type": "stream",
     "text": [
      "Connecting mull_h to Datanode\n",
      "Connecting mull_h to Datanode\n",
      "Connecting mull_o to Datanode\n",
      "Connecting mull_h to Datanode\n",
      "Connecting mull_h to Datanode\n",
      "Connecting mull_o to Datanode\n",
      "Connecting mull_h to Datanode\n",
      "Connecting mull_o to Datanode\n",
      "Connecting mull_h to Datanode\n",
      "Connecting mull_h to Datanode\n",
      "Connecting mull_o to Datanode\n",
      "Connecting mull_h to Datanode\n",
      "Connecting mull_o to Datanode\n",
      "Connecting mull_h to Datanode\n",
      "Connecting mull_h to Datanode\n",
      "Connecting mull_h to Datanode\n",
      "Connecting mull_h to Datanode\n",
      "Connecting mull_o to Datanode\n"
     ]
    },
    {
     "data": {
      "text/plain": [
       "[<matplotlib.lines.Line2D at 0x7ff914c98668>]"
      ]
     },
     "execution_count": 15,
     "metadata": {},
     "output_type": "execute_result"
    },
    {
     "data": {
      "image/png": "[encoded data removed]",
      "text/plain": [
       "<matplotlib.figure.Figure at 0x7ff934c7ab70>"
      ]
     },
     "metadata": {},
     "output_type": "display_data"
    }
   ],
   "source": [
    "plot(network.get_logits()[2],nodes_trimer[0].y_train, ls ='', marker = '.')"
   ]
  },
  {
   "cell_type": "code",
   "execution_count": null,
   "metadata": {
    "collapsed": true
   },
   "outputs": [],
   "source": []
  }
 ],
 "metadata": {
  "kernelspec": {
   "display_name": "Python 3",
   "language": "python",
   "name": "python3"
  },
  "language_info": {
   "codemirror_mode": {
    "name": "ipython",
    "version": 3
   },
   "file_extension": ".py",
   "mimetype": "text/x-python",
   "name": "python",
   "nbconvert_exporter": "python",
   "pygments_lexer": "ipython3",
   "version": "3.5.3"
  }
 },
 "nbformat": 4,
 "nbformat_minor": 2
}
